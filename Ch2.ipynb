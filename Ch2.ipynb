{
 "cells": [
  {
   "cell_type": "markdown",
   "metadata": {},
   "source": [
    "**Chapter 2**"
   ]
  },
  {
   "cell_type": "code",
   "execution_count": 1,
   "metadata": {},
   "outputs": [
    {
     "name": "stdout",
     "output_type": "stream",
     "text": [
      "Object `maken` not found.\n"
     ]
    }
   ],
   "source": [
    "hierin deelvraag 1 maken?"
   ]
  },
  {
   "cell_type": "code",
   "execution_count": 6,
   "metadata": {},
   "outputs": [
    {
     "name": "stdout",
     "output_type": "stream",
     "text": [
      "Requirement already satisfied: openpyxl in /Library/Frameworks/Python.framework/Versions/3.12/lib/python3.12/site-packages (3.1.5)\n",
      "Requirement already satisfied: et-xmlfile in /Library/Frameworks/Python.framework/Versions/3.12/lib/python3.12/site-packages (from openpyxl) (1.1.0)\n",
      "Note: you may need to restart the kernel to use updated packages.\n"
     ]
    }
   ],
   "source": [
    "pip install openpyxl"
   ]
  },
  {
   "cell_type": "code",
   "execution_count": 7,
   "metadata": {},
   "outputs": [
    {
     "name": "stdout",
     "output_type": "stream",
     "text": [
      "Collecting pandas\n",
      "  Downloading pandas-2.2.3-cp312-cp312-macosx_10_9_x86_64.whl.metadata (89 kB)\n",
      "Collecting numpy>=1.26.0 (from pandas)\n",
      "  Downloading numpy-2.1.2-cp312-cp312-macosx_14_0_x86_64.whl.metadata (60 kB)\n",
      "Requirement already satisfied: python-dateutil>=2.8.2 in /Users/Gijs/Library/Python/3.12/lib/python/site-packages (from pandas) (2.9.0.post0)\n",
      "Collecting pytz>=2020.1 (from pandas)\n",
      "  Downloading pytz-2024.2-py2.py3-none-any.whl.metadata (22 kB)\n",
      "Collecting tzdata>=2022.7 (from pandas)\n",
      "  Downloading tzdata-2024.2-py2.py3-none-any.whl.metadata (1.4 kB)\n",
      "Requirement already satisfied: six>=1.5 in /Users/Gijs/Library/Python/3.12/lib/python/site-packages (from python-dateutil>=2.8.2->pandas) (1.16.0)\n",
      "Downloading pandas-2.2.3-cp312-cp312-macosx_10_9_x86_64.whl (12.5 MB)\n",
      "\u001b[2K   \u001b[90m━━━━━━━━━━━━━━━━━━━━━━━━━━━━━━━━━━━━━━━━\u001b[0m \u001b[32m12.5/12.5 MB\u001b[0m \u001b[31m14.3 MB/s\u001b[0m eta \u001b[36m0:00:00\u001b[0m00:01\u001b[0m0:01\u001b[0m\n",
      "\u001b[?25hDownloading numpy-2.1.2-cp312-cp312-macosx_14_0_x86_64.whl (6.6 MB)\n",
      "\u001b[2K   \u001b[90m━━━━━━━━━━━━━━━━━━━━━━━━━━━━━━━━━━━━━━━━\u001b[0m \u001b[32m6.6/6.6 MB\u001b[0m \u001b[31m11.7 MB/s\u001b[0m eta \u001b[36m0:00:00\u001b[0ma \u001b[36m0:00:01\u001b[0m\n",
      "\u001b[?25hDownloading pytz-2024.2-py2.py3-none-any.whl (508 kB)\n",
      "Downloading tzdata-2024.2-py2.py3-none-any.whl (346 kB)\n",
      "Installing collected packages: pytz, tzdata, numpy, pandas\n",
      "Successfully installed numpy-2.1.2 pandas-2.2.3 pytz-2024.2 tzdata-2024.2\n",
      "Note: you may need to restart the kernel to use updated packages.\n"
     ]
    }
   ],
   "source": [
    "pip install pandas"
   ]
  },
  {
   "cell_type": "code",
   "execution_count": 9,
   "metadata": {},
   "outputs": [
    {
     "name": "stdout",
     "output_type": "stream",
     "text": [
      "Collecting matplotlib\n",
      "  Downloading matplotlib-3.9.2-cp312-cp312-macosx_10_12_x86_64.whl.metadata (11 kB)\n",
      "Collecting contourpy>=1.0.1 (from matplotlib)\n",
      "  Downloading contourpy-1.3.0-cp312-cp312-macosx_10_9_x86_64.whl.metadata (5.4 kB)\n",
      "Collecting cycler>=0.10 (from matplotlib)\n",
      "  Downloading cycler-0.12.1-py3-none-any.whl.metadata (3.8 kB)\n",
      "Collecting fonttools>=4.22.0 (from matplotlib)\n",
      "  Downloading fonttools-4.54.1-cp312-cp312-macosx_10_13_universal2.whl.metadata (163 kB)\n",
      "Collecting kiwisolver>=1.3.1 (from matplotlib)\n",
      "  Downloading kiwisolver-1.4.7-cp312-cp312-macosx_10_9_x86_64.whl.metadata (6.3 kB)\n",
      "Requirement already satisfied: numpy>=1.23 in /Library/Frameworks/Python.framework/Versions/3.12/lib/python3.12/site-packages (from matplotlib) (2.1.2)\n",
      "Requirement already satisfied: packaging>=20.0 in /Users/Gijs/Library/Python/3.12/lib/python/site-packages (from matplotlib) (24.1)\n",
      "Collecting pillow>=8 (from matplotlib)\n",
      "  Downloading pillow-10.4.0-cp312-cp312-macosx_10_10_x86_64.whl.metadata (9.2 kB)\n",
      "Collecting pyparsing>=2.3.1 (from matplotlib)\n",
      "  Downloading pyparsing-3.1.4-py3-none-any.whl.metadata (5.1 kB)\n",
      "Requirement already satisfied: python-dateutil>=2.7 in /Users/Gijs/Library/Python/3.12/lib/python/site-packages (from matplotlib) (2.9.0.post0)\n",
      "Requirement already satisfied: six>=1.5 in /Users/Gijs/Library/Python/3.12/lib/python/site-packages (from python-dateutil>=2.7->matplotlib) (1.16.0)\n",
      "Downloading matplotlib-3.9.2-cp312-cp312-macosx_10_12_x86_64.whl (7.9 MB)\n",
      "\u001b[2K   \u001b[90m━━━━━━━━━━━━━━━━━━━━━━━━━━━━━━━━━━━━━━━━\u001b[0m \u001b[32m7.9/7.9 MB\u001b[0m \u001b[31m14.4 MB/s\u001b[0m eta \u001b[36m0:00:00\u001b[0ma \u001b[36m0:00:01\u001b[0m\n",
      "\u001b[?25hDownloading contourpy-1.3.0-cp312-cp312-macosx_10_9_x86_64.whl (267 kB)\n",
      "Downloading cycler-0.12.1-py3-none-any.whl (8.3 kB)\n",
      "Downloading fonttools-4.54.1-cp312-cp312-macosx_10_13_universal2.whl (2.8 MB)\n",
      "\u001b[2K   \u001b[90m━━━━━━━━━━━━━━━━━━━━━━━━━━━━━━━━━━━━━━━━\u001b[0m \u001b[32m2.8/2.8 MB\u001b[0m \u001b[31m12.7 MB/s\u001b[0m eta \u001b[36m0:00:00\u001b[0ma \u001b[36m0:00:01\u001b[0m\n",
      "\u001b[?25hDownloading kiwisolver-1.4.7-cp312-cp312-macosx_10_9_x86_64.whl (65 kB)\n",
      "Downloading pillow-10.4.0-cp312-cp312-macosx_10_10_x86_64.whl (3.5 MB)\n",
      "\u001b[2K   \u001b[90m━━━━━━━━━━━━━━━━━━━━━━━━━━━━━━━━━━━━━━━━\u001b[0m \u001b[32m3.5/3.5 MB\u001b[0m \u001b[31m14.4 MB/s\u001b[0m eta \u001b[36m0:00:00\u001b[0ma \u001b[36m0:00:01\u001b[0m\n",
      "\u001b[?25hDownloading pyparsing-3.1.4-py3-none-any.whl (104 kB)\n",
      "Installing collected packages: pyparsing, pillow, kiwisolver, fonttools, cycler, contourpy, matplotlib\n",
      "Successfully installed contourpy-1.3.0 cycler-0.12.1 fonttools-4.54.1 kiwisolver-1.4.7 matplotlib-3.9.2 pillow-10.4.0 pyparsing-3.1.4\n",
      "Note: you may need to restart the kernel to use updated packages.\n"
     ]
    }
   ],
   "source": [
    "pip install matplotlib"
   ]
  },
  {
   "cell_type": "code",
   "execution_count": 2,
   "metadata": {},
   "outputs": [],
   "source": [
    "import pandas as pd\n",
    "import numpy as np\n",
    "import matplotlib.pyplot as plt\n"
   ]
  },
  {
   "cell_type": "code",
   "execution_count": 9,
   "metadata": {},
   "outputs": [],
   "source": [
    "spits = pd.read_excel(\"/Users/Gijs/Documents/GitHub/TIL6010-LabAssignments/datasets_spitsuren_wegvakken/INWEVA_2020_spits.xlsx\", usecols=['VIAS_baannr', 'Lengte_baan_meter', 'Baantype_van', 'Ri_van', 'Wegnr_van', 'Hm_van' , 'Ri_naar', 'Baantype_naar', 'Hm_naar', 'Wegnr_naar', 'OS_AL', 'AS_AL'])"
   ]
  },
  {
   "cell_type": "code",
   "execution_count": 12,
   "metadata": {},
   "outputs": [
    {
     "name": "stdout",
     "output_type": "stream",
     "text": [
      "The mean intensity on the right side of the A4 is 8365 vehicles during the morning rush hour \n",
      "The mean intensity on the right side of the A4 is 8134 vehicles during the afternoon rush hour\n"
     ]
    }
   ],
   "source": [
    "filter_spits = spits[(spits['Wegnr_van'] == 4) & (spits['Wegnr_naar'] == 4) & (spits['Baantype_van'] == 'HR') & (spits['Baantype_naar'] == 'HR')]\n",
    "filter_spits_HM = filter_spits[(filter_spits['Hm_van'] <= 150000) & (filter_spits['Hm_naar'] <= 150000)]\n",
    "\n",
    "filtered_L = filter_spits_HM[(filter_spits_HM['Ri_van'] == 'L') & (filter_spits_HM['Ri_naar'] == 'L')]\n",
    "\n",
    "final_L = filtered_L.sort_values(by='Hm_van', ascending=True)\n",
    "mean_L_OS = final_L['OS_AL'].mean()\n",
    "mean_L_AS = final_L['AS_AL'].mean()\n",
    "print(f'The mean intensity on the right side of the A4 is {mean_L_OS:.0f} vehicles during the morning rush hour ')\n",
    "print(f'The mean intensity on the right side of the A4 is {mean_L_AS:.0f} vehicles during the afternoon rush hour')\n",
    "\n",
    "# final_L.head(20)"
   ]
  },
  {
   "cell_type": "code",
   "execution_count": 13,
   "metadata": {},
   "outputs": [
    {
     "name": "stdout",
     "output_type": "stream",
     "text": [
      "The mean intensity on the left side of the A4 is 7020 vehicles during the morning rush hour \n",
      "The mean intensity on the left side of the A4 is 8654 vehicles during the afternoon rush hour\n"
     ]
    }
   ],
   "source": [
    "filtered_R = filter_spits_HM[(filter_spits_HM['Ri_van'] == 'R') & (filter_spits_HM['Ri_naar'] == 'R')]\n",
    "final_R = filtered_R.sort_values(by='Hm_van', ascending=True)\n",
    "\n",
    "mean_R_OS = final_R['OS_AL'].mean()\n",
    "mean_R_AS = final_R['AS_AL'].mean()\n",
    "print(f'The mean intensity on the left side of the A4 is {mean_R_OS:.0f} vehicles during the morning rush hour ')\n",
    "print(f'The mean intensity on the left side of the A4 is {mean_R_AS:.0f} vehicles during the afternoon rush hour')\n",
    "\n",
    "# final_R.head(20)"
   ]
  },
  {
   "cell_type": "code",
   "execution_count": 14,
   "metadata": {},
   "outputs": [],
   "source": [
    "spits = pd.read_excel(\"/Users/Gijs/Documents/GitHub/TIL6010-LabAssignments/datasets_spitsuren_wegvakken/INWEVA_2021_spits.xlsx\", usecols=['VIAS_baannr', 'Lengte_baan_meter', 'Baantype_van', 'Ri_van', 'Wegnr_van', 'Hm_van' , 'Ri_naar', 'Baantype_naar', 'Hm_naar', 'Wegnr_naar', 'OS_AL', 'AS_AL'])"
   ]
  },
  {
   "cell_type": "code",
   "execution_count": 15,
   "metadata": {},
   "outputs": [
    {
     "name": "stdout",
     "output_type": "stream",
     "text": [
      "The mean intensity on the right side of the A4 is 9003 vehicles during the morning rush hour \n",
      "The mean intensity on the right side of the A4 is 8625 vehicles during the afternoon rush hour\n"
     ]
    }
   ],
   "source": [
    "filter_spits = spits[(spits['Wegnr_van'] == 4) & (spits['Wegnr_naar'] == 4) & (spits['Baantype_van'] == 'HR') & (spits['Baantype_naar'] == 'HR')]\n",
    "filter_spits_HM = filter_spits[(filter_spits['Hm_van'] <= 150000) & (filter_spits['Hm_naar'] <= 150000)]\n",
    "\n",
    "filtered_L = filter_spits_HM[(filter_spits_HM['Ri_van'] == 'L') & (filter_spits_HM['Ri_naar'] == 'L')]\n",
    "\n",
    "final_L = filtered_L.sort_values(by='Hm_van', ascending=True)\n",
    "mean_L_OS = final_L['OS_AL'].mean()\n",
    "mean_L_AS = final_L['AS_AL'].mean()\n",
    "print(f'The mean intensity on the right side of the A4 is {mean_L_OS:.0f} vehicles during the morning rush hour ')\n",
    "print(f'The mean intensity on the right side of the A4 is {mean_L_AS:.0f} vehicles during the afternoon rush hour')"
   ]
  },
  {
   "cell_type": "code",
   "execution_count": 16,
   "metadata": {},
   "outputs": [
    {
     "name": "stdout",
     "output_type": "stream",
     "text": [
      "The mean intensity on the left side of the A4 is 7535 vehicles during the morning rush hour \n",
      "The mean intensity on the left side of the A4 is 9078 vehicles during the afternoon rush hour\n"
     ]
    }
   ],
   "source": [
    "filtered_R = filter_spits_HM[(filter_spits_HM['Ri_van'] == 'R') & (filter_spits_HM['Ri_naar'] == 'R')]\n",
    "final_R = filtered_R.sort_values(by='Hm_van', ascending=True)\n",
    "\n",
    "mean_R_OS = final_R['OS_AL'].mean()\n",
    "mean_R_AS = final_R['AS_AL'].mean()\n",
    "print(f'The mean intensity on the left side of the A4 is {mean_R_OS:.0f} vehicles during the morning rush hour ')\n",
    "print(f'The mean intensity on the left side of the A4 is {mean_R_AS:.0f} vehicles during the afternoon rush hour')\n",
    "\n",
    "# final_R.head(20)"
   ]
  },
  {
   "cell_type": "code",
   "execution_count": 17,
   "metadata": {},
   "outputs": [],
   "source": [
    "spits = pd.read_excel(\"/Users/Gijs/Documents/GitHub/TIL6010-LabAssignments/datasets_spitsuren_wegvakken/INWEVA_2022_spits.xlsx\", usecols=['VIAS_baannr', 'Lengte_baan_meter', 'Baantype_van', 'Ri_van', 'Wegnr_van', 'Hm_van' , 'Ri_naar', 'Baantype_naar', 'Hm_naar', 'Wegnr_naar', 'OS_AL', 'AS_AL'])"
   ]
  },
  {
   "cell_type": "code",
   "execution_count": 18,
   "metadata": {},
   "outputs": [
    {
     "name": "stdout",
     "output_type": "stream",
     "text": [
      "The mean intensity on the right side of the A4 is 10061 vehicles during the morning rush hour \n",
      "The mean intensity on the right side of the A4 is 9066 vehicles during the afternoon rush hour\n"
     ]
    }
   ],
   "source": [
    "filter_spits = spits[(spits['Wegnr_van'] == 4) & (spits['Wegnr_naar'] == 4) & (spits['Baantype_van'] == 'HR') & (spits['Baantype_naar'] == 'HR')]\n",
    "filter_spits_HM = filter_spits[(filter_spits['Hm_van'] <= 150000) & (filter_spits['Hm_naar'] <= 150000)]\n",
    "\n",
    "filtered_L = filter_spits_HM[(filter_spits_HM['Ri_van'] == 'L') & (filter_spits_HM['Ri_naar'] == 'L')]\n",
    "\n",
    "final_L = filtered_L.sort_values(by='Hm_van', ascending=True)\n",
    "mean_L_OS = final_L['OS_AL'].mean()\n",
    "mean_L_AS = final_L['AS_AL'].mean()\n",
    "print(f'The mean intensity on the right side of the A4 is {mean_L_OS:.0f} vehicles during the morning rush hour ')\n",
    "print(f'The mean intensity on the right side of the A4 is {mean_L_AS:.0f} vehicles during the afternoon rush hour')"
   ]
  },
  {
   "cell_type": "code",
   "execution_count": 19,
   "metadata": {},
   "outputs": [
    {
     "name": "stdout",
     "output_type": "stream",
     "text": [
      "The mean intensity on the left side of the A4 is 8310 vehicles during the morning rush hour \n",
      "The mean intensity on the left side of the A4 is 9220 vehicles during the afternoon rush hour\n"
     ]
    }
   ],
   "source": [
    "filtered_R = filter_spits_HM[(filter_spits_HM['Ri_van'] == 'R') & (filter_spits_HM['Ri_naar'] == 'R')]\n",
    "final_R = filtered_R.sort_values(by='Hm_van', ascending=True)\n",
    "\n",
    "mean_R_OS = final_R['OS_AL'].mean()\n",
    "mean_R_AS = final_R['AS_AL'].mean()\n",
    "print(f'The mean intensity on the left side of the A4 is {mean_R_OS:.0f} vehicles during the morning rush hour ')\n",
    "print(f'The mean intensity on the left side of the A4 is {mean_R_AS:.0f} vehicles during the afternoon rush hour')\n"
   ]
  },
  {
   "cell_type": "code",
   "execution_count": 21,
   "metadata": {},
   "outputs": [],
   "source": [
    "spits = pd.read_excel(\"/Users/Gijs/Documents/GitHub/TIL6010-LabAssignments/datasets_spitsuren_wegvakken/INWEVA_2023_spits.xlsx\", usecols=['VIAS_baannr', 'Lengte_baan_meter', 'Baantype_van', 'Ri_van', 'Wegnr_van', 'Hm_van' , 'Ri_naar', 'Baantype_naar', 'Hm_naar', 'Wegnr_naar', 'OS_AL', 'AS_AL'])"
   ]
  },
  {
   "cell_type": "code",
   "execution_count": 22,
   "metadata": {},
   "outputs": [
    {
     "name": "stdout",
     "output_type": "stream",
     "text": [
      "The mean intensity on the right side of the A4 is 10026 vehicles during the morning rush hour \n",
      "The mean intensity on the right side of the A4 is 9025 vehicles during the afternoon rush hour\n"
     ]
    }
   ],
   "source": [
    "filter_spits = spits[(spits['Wegnr_van'] == 4) & (spits['Wegnr_naar'] == 4) & (spits['Baantype_van'] == 'HR') & (spits['Baantype_naar'] == 'HR')]\n",
    "filter_spits_HM = filter_spits[(filter_spits['Hm_van'] <= 150000) & (filter_spits['Hm_naar'] <= 150000)]\n",
    "\n",
    "filtered_L = filter_spits_HM[(filter_spits_HM['Ri_van'] == 'L') & (filter_spits_HM['Ri_naar'] == 'L')]\n",
    "\n",
    "final_L = filtered_L.sort_values(by='Hm_van', ascending=True)\n",
    "mean_L_OS = final_L['OS_AL'].mean()\n",
    "mean_L_AS = final_L['AS_AL'].mean()\n",
    "print(f'The mean intensity on the right side of the A4 is {mean_L_OS:.0f} vehicles during the morning rush hour ')\n",
    "print(f'The mean intensity on the right side of the A4 is {mean_L_AS:.0f} vehicles during the afternoon rush hour')"
   ]
  },
  {
   "cell_type": "code",
   "execution_count": 23,
   "metadata": {},
   "outputs": [
    {
     "name": "stdout",
     "output_type": "stream",
     "text": [
      "The mean intensity on the left side of the A4 is 8472 vehicles during the morning rush hour \n",
      "The mean intensity on the left side of the A4 is 9168 vehicles during the afternoon rush hour\n"
     ]
    }
   ],
   "source": [
    "filtered_R = filter_spits_HM[(filter_spits_HM['Ri_van'] == 'R') & (filter_spits_HM['Ri_naar'] == 'R')]\n",
    "final_R = filtered_R.sort_values(by='Hm_van', ascending=True)\n",
    "\n",
    "mean_R_OS = final_R['OS_AL'].mean()\n",
    "mean_R_AS = final_R['AS_AL'].mean()\n",
    "print(f'The mean intensity on the left side of the A4 is {mean_R_OS:.0f} vehicles during the morning rush hour ')\n",
    "print(f'The mean intensity on the left side of the A4 is {mean_R_AS:.0f} vehicles during the afternoon rush hour')"
   ]
  },
  {
   "cell_type": "code",
   "execution_count": 24,
   "metadata": {},
   "outputs": [],
   "source": [
    "def intensity_corona(jaartal):\n",
    "\n",
    "    spits = pd.read_excel(\"/Users/Gijs/Documents/GitHub/TIL6010-LabAssignments/datasets_spitsuren_wegvakken/INWEVA_{jaartal}_spits.xlsx\", usecols=['VIAS_baannr', 'Lengte_baan_meter', 'Baantype_van', 'Ri_van', 'Wegnr_van', 'Hm_van' , 'Ri_naar', 'Baantype_naar', 'Hm_naar', 'Wegnr_naar', 'OS_AL', 'AS_AL'])\n",
    "\n",
    "    filter_spits = spits[(spits['Wegnr_van'] == 4) & (spits['Wegnr_naar'] == 4) & (spits['Baantype_van'] == 'HR') & (spits['Baantype_naar'] == 'HR')]\n",
    "    filter_spits_HM = filter_spits[(filter_spits['Hm_van'] <= 150000) & (filter_spits['Hm_naar'] <= 150000)]\n",
    "\n",
    "    filtered_L = filter_spits_HM[(filter_spits_HM['Ri_van'] == 'L') & (filter_spits_HM['Ri_naar'] == 'L')]\n",
    "    final_L = filtered_L.sort_values(by='Hm_van', ascending=True)\n",
    "\n",
    "    filtered_R = filter_spits_HM[(filter_spits_HM['Ri_van'] == 'R') & (filter_spits_HM['Ri_naar'] == 'R')]\n",
    "    final_R = filtered_R.sort_values(by='Hm_van', ascending=True)\n",
    "\n",
    "    mean_L_OS = final_L['OS_AL'].mean()\n",
    "    mean_L_AS = final_L['AS_AL'].mean()\n",
    "    print(f'The mean intensity on the right side of the A4 is {mean_L_OS:.0f} vehicles during the morning rush hour ')\n",
    "    print(f'The mean intensity on the right side of the A4 is {mean_L_AS:.0f} vehicles during the afternoon rush hour') \n",
    "\n",
    "    mean_R_OS = final_R['OS_AL'].mean()\n",
    "    mean_R_AS = final_R['AS_AL'].mean()\n",
    "    print(f'The mean intensity on the left side of the A4 is {mean_R_OS:.0f} vehicles during the morning rush hour ')\n",
    "    print(f'The mean intensity on the left side of the A4 is {mean_R_AS:.0f} vehicles during the afternoon rush hour')\n"
   ]
  },
  {
   "cell_type": "code",
   "execution_count": 25,
   "metadata": {},
   "outputs": [
    {
     "ename": "FileNotFoundError",
     "evalue": "[Errno 2] No such file or directory: '/Users/Gijs/Documents/GitHub/TIL6010-LabAssignments/datasets_spitsuren_wegvakken/INWEVA_{jaartal}_spits.xlsx'",
     "output_type": "error",
     "traceback": [
      "\u001b[0;31m---------------------------------------------------------------------------\u001b[0m",
      "\u001b[0;31mFileNotFoundError\u001b[0m                         Traceback (most recent call last)",
      "Cell \u001b[0;32mIn[25], line 1\u001b[0m\n\u001b[0;32m----> 1\u001b[0m \u001b[43mintensity_corona\u001b[49m\u001b[43m(\u001b[49m\u001b[38;5;241;43m2020\u001b[39;49m\u001b[43m)\u001b[49m\n",
      "Cell \u001b[0;32mIn[24], line 3\u001b[0m, in \u001b[0;36mintensity_corona\u001b[0;34m(jaartal)\u001b[0m\n\u001b[1;32m      1\u001b[0m \u001b[38;5;28;01mdef\u001b[39;00m \u001b[38;5;21mintensity_corona\u001b[39m(jaartal):\n\u001b[0;32m----> 3\u001b[0m     spits \u001b[38;5;241m=\u001b[39m \u001b[43mpd\u001b[49m\u001b[38;5;241;43m.\u001b[39;49m\u001b[43mread_excel\u001b[49m\u001b[43m(\u001b[49m\u001b[38;5;124;43m\"\u001b[39;49m\u001b[38;5;124;43m/Users/Gijs/Documents/GitHub/TIL6010-LabAssignments/datasets_spitsuren_wegvakken/INWEVA_\u001b[39;49m\u001b[38;5;132;43;01m{jaartal}\u001b[39;49;00m\u001b[38;5;124;43m_spits.xlsx\u001b[39;49m\u001b[38;5;124;43m\"\u001b[39;49m\u001b[43m,\u001b[49m\u001b[43m \u001b[49m\u001b[43musecols\u001b[49m\u001b[38;5;241;43m=\u001b[39;49m\u001b[43m[\u001b[49m\u001b[38;5;124;43m'\u001b[39;49m\u001b[38;5;124;43mVIAS_baannr\u001b[39;49m\u001b[38;5;124;43m'\u001b[39;49m\u001b[43m,\u001b[49m\u001b[43m \u001b[49m\u001b[38;5;124;43m'\u001b[39;49m\u001b[38;5;124;43mLengte_baan_meter\u001b[39;49m\u001b[38;5;124;43m'\u001b[39;49m\u001b[43m,\u001b[49m\u001b[43m \u001b[49m\u001b[38;5;124;43m'\u001b[39;49m\u001b[38;5;124;43mBaantype_van\u001b[39;49m\u001b[38;5;124;43m'\u001b[39;49m\u001b[43m,\u001b[49m\u001b[43m \u001b[49m\u001b[38;5;124;43m'\u001b[39;49m\u001b[38;5;124;43mRi_van\u001b[39;49m\u001b[38;5;124;43m'\u001b[39;49m\u001b[43m,\u001b[49m\u001b[43m \u001b[49m\u001b[38;5;124;43m'\u001b[39;49m\u001b[38;5;124;43mWegnr_van\u001b[39;49m\u001b[38;5;124;43m'\u001b[39;49m\u001b[43m,\u001b[49m\u001b[43m \u001b[49m\u001b[38;5;124;43m'\u001b[39;49m\u001b[38;5;124;43mHm_van\u001b[39;49m\u001b[38;5;124;43m'\u001b[39;49m\u001b[43m \u001b[49m\u001b[43m,\u001b[49m\u001b[43m \u001b[49m\u001b[38;5;124;43m'\u001b[39;49m\u001b[38;5;124;43mRi_naar\u001b[39;49m\u001b[38;5;124;43m'\u001b[39;49m\u001b[43m,\u001b[49m\u001b[43m \u001b[49m\u001b[38;5;124;43m'\u001b[39;49m\u001b[38;5;124;43mBaantype_naar\u001b[39;49m\u001b[38;5;124;43m'\u001b[39;49m\u001b[43m,\u001b[49m\u001b[43m \u001b[49m\u001b[38;5;124;43m'\u001b[39;49m\u001b[38;5;124;43mHm_naar\u001b[39;49m\u001b[38;5;124;43m'\u001b[39;49m\u001b[43m,\u001b[49m\u001b[43m \u001b[49m\u001b[38;5;124;43m'\u001b[39;49m\u001b[38;5;124;43mWegnr_naar\u001b[39;49m\u001b[38;5;124;43m'\u001b[39;49m\u001b[43m,\u001b[49m\u001b[43m \u001b[49m\u001b[38;5;124;43m'\u001b[39;49m\u001b[38;5;124;43mOS_AL\u001b[39;49m\u001b[38;5;124;43m'\u001b[39;49m\u001b[43m,\u001b[49m\u001b[43m \u001b[49m\u001b[38;5;124;43m'\u001b[39;49m\u001b[38;5;124;43mAS_AL\u001b[39;49m\u001b[38;5;124;43m'\u001b[39;49m\u001b[43m]\u001b[49m\u001b[43m)\u001b[49m\n\u001b[1;32m      5\u001b[0m     filter_spits \u001b[38;5;241m=\u001b[39m spits[(spits[\u001b[38;5;124m'\u001b[39m\u001b[38;5;124mWegnr_van\u001b[39m\u001b[38;5;124m'\u001b[39m] \u001b[38;5;241m==\u001b[39m \u001b[38;5;241m4\u001b[39m) \u001b[38;5;241m&\u001b[39m (spits[\u001b[38;5;124m'\u001b[39m\u001b[38;5;124mWegnr_naar\u001b[39m\u001b[38;5;124m'\u001b[39m] \u001b[38;5;241m==\u001b[39m \u001b[38;5;241m4\u001b[39m) \u001b[38;5;241m&\u001b[39m (spits[\u001b[38;5;124m'\u001b[39m\u001b[38;5;124mBaantype_van\u001b[39m\u001b[38;5;124m'\u001b[39m] \u001b[38;5;241m==\u001b[39m \u001b[38;5;124m'\u001b[39m\u001b[38;5;124mHR\u001b[39m\u001b[38;5;124m'\u001b[39m) \u001b[38;5;241m&\u001b[39m (spits[\u001b[38;5;124m'\u001b[39m\u001b[38;5;124mBaantype_naar\u001b[39m\u001b[38;5;124m'\u001b[39m] \u001b[38;5;241m==\u001b[39m \u001b[38;5;124m'\u001b[39m\u001b[38;5;124mHR\u001b[39m\u001b[38;5;124m'\u001b[39m)]\n\u001b[1;32m      6\u001b[0m     filter_spits_HM \u001b[38;5;241m=\u001b[39m filter_spits[(filter_spits[\u001b[38;5;124m'\u001b[39m\u001b[38;5;124mHm_van\u001b[39m\u001b[38;5;124m'\u001b[39m] \u001b[38;5;241m<\u001b[39m\u001b[38;5;241m=\u001b[39m \u001b[38;5;241m150000\u001b[39m) \u001b[38;5;241m&\u001b[39m (filter_spits[\u001b[38;5;124m'\u001b[39m\u001b[38;5;124mHm_naar\u001b[39m\u001b[38;5;124m'\u001b[39m] \u001b[38;5;241m<\u001b[39m\u001b[38;5;241m=\u001b[39m \u001b[38;5;241m150000\u001b[39m)]\n",
      "File \u001b[0;32m/Library/Frameworks/Python.framework/Versions/3.12/lib/python3.12/site-packages/pandas/io/excel/_base.py:495\u001b[0m, in \u001b[0;36mread_excel\u001b[0;34m(io, sheet_name, header, names, index_col, usecols, dtype, engine, converters, true_values, false_values, skiprows, nrows, na_values, keep_default_na, na_filter, verbose, parse_dates, date_parser, date_format, thousands, decimal, comment, skipfooter, storage_options, dtype_backend, engine_kwargs)\u001b[0m\n\u001b[1;32m    493\u001b[0m \u001b[38;5;28;01mif\u001b[39;00m \u001b[38;5;129;01mnot\u001b[39;00m \u001b[38;5;28misinstance\u001b[39m(io, ExcelFile):\n\u001b[1;32m    494\u001b[0m     should_close \u001b[38;5;241m=\u001b[39m \u001b[38;5;28;01mTrue\u001b[39;00m\n\u001b[0;32m--> 495\u001b[0m     io \u001b[38;5;241m=\u001b[39m \u001b[43mExcelFile\u001b[49m\u001b[43m(\u001b[49m\n\u001b[1;32m    496\u001b[0m \u001b[43m        \u001b[49m\u001b[43mio\u001b[49m\u001b[43m,\u001b[49m\n\u001b[1;32m    497\u001b[0m \u001b[43m        \u001b[49m\u001b[43mstorage_options\u001b[49m\u001b[38;5;241;43m=\u001b[39;49m\u001b[43mstorage_options\u001b[49m\u001b[43m,\u001b[49m\n\u001b[1;32m    498\u001b[0m \u001b[43m        \u001b[49m\u001b[43mengine\u001b[49m\u001b[38;5;241;43m=\u001b[39;49m\u001b[43mengine\u001b[49m\u001b[43m,\u001b[49m\n\u001b[1;32m    499\u001b[0m \u001b[43m        \u001b[49m\u001b[43mengine_kwargs\u001b[49m\u001b[38;5;241;43m=\u001b[39;49m\u001b[43mengine_kwargs\u001b[49m\u001b[43m,\u001b[49m\n\u001b[1;32m    500\u001b[0m \u001b[43m    \u001b[49m\u001b[43m)\u001b[49m\n\u001b[1;32m    501\u001b[0m \u001b[38;5;28;01melif\u001b[39;00m engine \u001b[38;5;129;01mand\u001b[39;00m engine \u001b[38;5;241m!=\u001b[39m io\u001b[38;5;241m.\u001b[39mengine:\n\u001b[1;32m    502\u001b[0m     \u001b[38;5;28;01mraise\u001b[39;00m \u001b[38;5;167;01mValueError\u001b[39;00m(\n\u001b[1;32m    503\u001b[0m         \u001b[38;5;124m\"\u001b[39m\u001b[38;5;124mEngine should not be specified when passing \u001b[39m\u001b[38;5;124m\"\u001b[39m\n\u001b[1;32m    504\u001b[0m         \u001b[38;5;124m\"\u001b[39m\u001b[38;5;124man ExcelFile - ExcelFile already has the engine set\u001b[39m\u001b[38;5;124m\"\u001b[39m\n\u001b[1;32m    505\u001b[0m     )\n",
      "File \u001b[0;32m/Library/Frameworks/Python.framework/Versions/3.12/lib/python3.12/site-packages/pandas/io/excel/_base.py:1550\u001b[0m, in \u001b[0;36mExcelFile.__init__\u001b[0;34m(self, path_or_buffer, engine, storage_options, engine_kwargs)\u001b[0m\n\u001b[1;32m   1548\u001b[0m     ext \u001b[38;5;241m=\u001b[39m \u001b[38;5;124m\"\u001b[39m\u001b[38;5;124mxls\u001b[39m\u001b[38;5;124m\"\u001b[39m\n\u001b[1;32m   1549\u001b[0m \u001b[38;5;28;01melse\u001b[39;00m:\n\u001b[0;32m-> 1550\u001b[0m     ext \u001b[38;5;241m=\u001b[39m \u001b[43minspect_excel_format\u001b[49m\u001b[43m(\u001b[49m\n\u001b[1;32m   1551\u001b[0m \u001b[43m        \u001b[49m\u001b[43mcontent_or_path\u001b[49m\u001b[38;5;241;43m=\u001b[39;49m\u001b[43mpath_or_buffer\u001b[49m\u001b[43m,\u001b[49m\u001b[43m \u001b[49m\u001b[43mstorage_options\u001b[49m\u001b[38;5;241;43m=\u001b[39;49m\u001b[43mstorage_options\u001b[49m\n\u001b[1;32m   1552\u001b[0m \u001b[43m    \u001b[49m\u001b[43m)\u001b[49m\n\u001b[1;32m   1553\u001b[0m     \u001b[38;5;28;01mif\u001b[39;00m ext \u001b[38;5;129;01mis\u001b[39;00m \u001b[38;5;28;01mNone\u001b[39;00m:\n\u001b[1;32m   1554\u001b[0m         \u001b[38;5;28;01mraise\u001b[39;00m \u001b[38;5;167;01mValueError\u001b[39;00m(\n\u001b[1;32m   1555\u001b[0m             \u001b[38;5;124m\"\u001b[39m\u001b[38;5;124mExcel file format cannot be determined, you must specify \u001b[39m\u001b[38;5;124m\"\u001b[39m\n\u001b[1;32m   1556\u001b[0m             \u001b[38;5;124m\"\u001b[39m\u001b[38;5;124man engine manually.\u001b[39m\u001b[38;5;124m\"\u001b[39m\n\u001b[1;32m   1557\u001b[0m         )\n",
      "File \u001b[0;32m/Library/Frameworks/Python.framework/Versions/3.12/lib/python3.12/site-packages/pandas/io/excel/_base.py:1402\u001b[0m, in \u001b[0;36minspect_excel_format\u001b[0;34m(content_or_path, storage_options)\u001b[0m\n\u001b[1;32m   1399\u001b[0m \u001b[38;5;28;01mif\u001b[39;00m \u001b[38;5;28misinstance\u001b[39m(content_or_path, \u001b[38;5;28mbytes\u001b[39m):\n\u001b[1;32m   1400\u001b[0m     content_or_path \u001b[38;5;241m=\u001b[39m BytesIO(content_or_path)\n\u001b[0;32m-> 1402\u001b[0m \u001b[38;5;28;01mwith\u001b[39;00m \u001b[43mget_handle\u001b[49m\u001b[43m(\u001b[49m\n\u001b[1;32m   1403\u001b[0m \u001b[43m    \u001b[49m\u001b[43mcontent_or_path\u001b[49m\u001b[43m,\u001b[49m\u001b[43m \u001b[49m\u001b[38;5;124;43m\"\u001b[39;49m\u001b[38;5;124;43mrb\u001b[39;49m\u001b[38;5;124;43m\"\u001b[39;49m\u001b[43m,\u001b[49m\u001b[43m \u001b[49m\u001b[43mstorage_options\u001b[49m\u001b[38;5;241;43m=\u001b[39;49m\u001b[43mstorage_options\u001b[49m\u001b[43m,\u001b[49m\u001b[43m \u001b[49m\u001b[43mis_text\u001b[49m\u001b[38;5;241;43m=\u001b[39;49m\u001b[38;5;28;43;01mFalse\u001b[39;49;00m\n\u001b[1;32m   1404\u001b[0m \u001b[43m\u001b[49m\u001b[43m)\u001b[49m \u001b[38;5;28;01mas\u001b[39;00m handle:\n\u001b[1;32m   1405\u001b[0m     stream \u001b[38;5;241m=\u001b[39m handle\u001b[38;5;241m.\u001b[39mhandle\n\u001b[1;32m   1406\u001b[0m     stream\u001b[38;5;241m.\u001b[39mseek(\u001b[38;5;241m0\u001b[39m)\n",
      "File \u001b[0;32m/Library/Frameworks/Python.framework/Versions/3.12/lib/python3.12/site-packages/pandas/io/common.py:882\u001b[0m, in \u001b[0;36mget_handle\u001b[0;34m(path_or_buf, mode, encoding, compression, memory_map, is_text, errors, storage_options)\u001b[0m\n\u001b[1;32m    873\u001b[0m         handle \u001b[38;5;241m=\u001b[39m \u001b[38;5;28mopen\u001b[39m(\n\u001b[1;32m    874\u001b[0m             handle,\n\u001b[1;32m    875\u001b[0m             ioargs\u001b[38;5;241m.\u001b[39mmode,\n\u001b[0;32m   (...)\u001b[0m\n\u001b[1;32m    878\u001b[0m             newline\u001b[38;5;241m=\u001b[39m\u001b[38;5;124m\"\u001b[39m\u001b[38;5;124m\"\u001b[39m,\n\u001b[1;32m    879\u001b[0m         )\n\u001b[1;32m    880\u001b[0m     \u001b[38;5;28;01melse\u001b[39;00m:\n\u001b[1;32m    881\u001b[0m         \u001b[38;5;66;03m# Binary mode\u001b[39;00m\n\u001b[0;32m--> 882\u001b[0m         handle \u001b[38;5;241m=\u001b[39m \u001b[38;5;28;43mopen\u001b[39;49m\u001b[43m(\u001b[49m\u001b[43mhandle\u001b[49m\u001b[43m,\u001b[49m\u001b[43m \u001b[49m\u001b[43mioargs\u001b[49m\u001b[38;5;241;43m.\u001b[39;49m\u001b[43mmode\u001b[49m\u001b[43m)\u001b[49m\n\u001b[1;32m    883\u001b[0m     handles\u001b[38;5;241m.\u001b[39mappend(handle)\n\u001b[1;32m    885\u001b[0m \u001b[38;5;66;03m# Convert BytesIO or file objects passed with an encoding\u001b[39;00m\n",
      "\u001b[0;31mFileNotFoundError\u001b[0m: [Errno 2] No such file or directory: '/Users/Gijs/Documents/GitHub/TIL6010-LabAssignments/datasets_spitsuren_wegvakken/INWEVA_{jaartal}_spits.xlsx'"
     ]
    }
   ],
   "source": [
    "intensity_corona(2020)"
   ]
  },
  {
   "cell_type": "code",
   "execution_count": null,
   "metadata": {},
   "outputs": [],
   "source": []
  }
 ],
 "metadata": {
  "kernelspec": {
   "display_name": "Python 3",
   "language": "python",
   "name": "python3"
  },
  "language_info": {
   "codemirror_mode": {
    "name": "ipython",
    "version": 3
   },
   "file_extension": ".py",
   "mimetype": "text/x-python",
   "name": "python",
   "nbconvert_exporter": "python",
   "pygments_lexer": "ipython3",
   "version": "3.12.6"
  }
 },
 "nbformat": 4,
 "nbformat_minor": 2
}
