{
 "cells": [
  {
   "cell_type": "markdown",
   "metadata": {},
   "source": [
    "# Impact of COVID-19 on rush hour traffic intensities on the A4 highway\n",
    "\n",
    "**Project Group 30**\n",
    "\n",
    "**Members & student numbers:** \n",
    "\n",
    "- Bart van de Meerendonk (5410878)\n",
    "- Daan Kreikamp (5313333)\n",
    "- Jasmijn Smit (5310296)\n",
    "- Liselot van Steekelenburg (5367662)\n",
    "- Gijs Janssen (5083478)"
   ]
  },
  {
   "cell_type": "markdown",
   "metadata": {},
   "source": [
    "# 1. Introduction "
   ]
  },
  {
   "cell_type": "markdown",
   "metadata": {},
   "source": [
    "\n",
    "The COVID-19 pandemic has significantly affected various sectors, including transportation and mobility. With lockdowns and working remote becomming the norm, travel behaviours have altered, particularly on the dutch highway system. Understanding how these shifts have affected traffic intensities is crucial for future transportation planning and infrastructure development. In the Netherlands, a decline in traffic intensities on highways have become evident. This research examines the extent of the pandemic's impact on traffic intensities, specifically on the A4 highway between Rotterdam and Amsterdam. To address this, one main question and three sub-questions will be explored. "
   ]
  },
  {
   "cell_type": "markdown",
   "metadata": {},
   "source": [
    "# 2. Research Objective"
   ]
  },
  {
   "cell_type": "markdown",
   "metadata": {},
   "source": [
    "The aim of this research is to use traffic data up to 2019 to extrapolate traffic intensities untill 2023. This is then used to show the difference between the extrapolated traffic intensities in 2023 and the measured data. The main objective of this research is to determine the extent to which the COVID-19 pandemic has impacted rush hour traffic intensities on weekdays on the A4 highway between Rotterdam and Amsterdam. To answer the main objective, three sub questions are introduced.\n",
    "\n",
    "Main objective: \n",
    "#### To what extent did the Covid Pandemic have an impact on rush hour traffic intensities on weekdays on the A4 highway between Rotterdam & Amsterdam?\n",
    "\n",
    "\n",
    "Sub objectives: \n",
    "\n",
    "* What were traffic intensities on the A4 between 2020 and 2023 (after COVID era)?\n",
    "* What are the projected traffic intensities untill 2023 based on the pre-Covid data? (extrapolated from 2019)\n",
    "* What is the difference between passenger vehicles and freight traffic?\n",
    "\n",
    "In doing our research, we have relied on several assumptions to develop a realistic estimate of traffic intensities on the A4. First, we assumed that the traffic data from 2019 represents a normal pre-pandemic condition. This year was chosen as it was the last full calendar year before the disruptions caused by COVID-19.\n",
    "\n",
    "Additionally, we decided to collect the data from all main trajectories of the A4 to calculate average traffic intensities. This approach was necessary to gain a more comprehensive view of traffic flows, as individual trajectories can exhibit varying intensities due to local factors such as exits, highway intersections and other variables. By utilizing averages, we can better establish the overall trend on the highway and understand the impact of COVID-19 on traffic patterns at a macro level.\n",
    "\n",
    "We also considered the increasing influence of remote working, which may have resulted in lasting changes to traffic patterns. We assumed that while traffic intensities in 2023 might be lower than the values from 2019, a stabilization could occur depending on how society adapts to new norms. These assumptions form the foundation of our analyses and assist us in interpreting the results within the broader context of the COVID-19 pandemic's impact on traffic intensities.\n",
    "\n",
    "\n"
   ]
  },
  {
   "cell_type": "markdown",
   "metadata": {},
   "source": [
    "# 3. A4 traffic intensities 2020-2023"
   ]
  },
  {
   "cell_type": "markdown",
   "metadata": {},
   "source": [
    "The code of this chapter is in file blablabla... --> toevoegen aan alle hoofdstukken\n",
    "\n",
    "Stukje achtergrond verkeers intensiteiten nederland covid.\n",
    "\n"
   ]
  },
  {
   "cell_type": "markdown",
   "metadata": {},
   "source": [
    "# 4. Extrapolated A4 traffic intensities"
   ]
  },
  {
   "cell_type": "markdown",
   "metadata": {},
   "source": []
  },
  {
   "cell_type": "markdown",
   "metadata": {},
   "source": [
    "# 5. Passengers V.S. Freight"
   ]
  },
  {
   "cell_type": "markdown",
   "metadata": {},
   "source": []
  },
  {
   "cell_type": "markdown",
   "metadata": {},
   "source": [
    "# 6. Conclusion"
   ]
  },
  {
   "cell_type": "markdown",
   "metadata": {},
   "source": [
    "Ook beantwoorden of de niveaus van traffic intensities weer even hoog zijn als voor corona etc."
   ]
  },
  {
   "cell_type": "markdown",
   "metadata": {},
   "source": [
    "# 7. Discussion"
   ]
  },
  {
   "cell_type": "markdown",
   "metadata": {},
   "source": [
    "Reflection: maybe next time we should do the coding in 1 specific writing style"
   ]
  },
  {
   "cell_type": "markdown",
   "metadata": {},
   "source": [
    "# Data Used"
   ]
  },
  {
   "cell_type": "markdown",
   "metadata": {},
   "source": [
    "We will use the zipfiles on this website to download the datasets of the rush hour traffic intensities of the years 2012 to 2023.\n",
    "\n",
    "* Rijkswaterstaat INtensiteit WEgVAkken (INWEVA) datasets (2012-2023) - https://maps.rijkswaterstaat.nl/dataregister/srv/dut/catalog.search#/metadata/054ab8be-0eaa-440c-840c-47eca8643aa8\n",
    "\n",
    "`Eventueel nog bronnen toevoegen`\n"
   ]
  },
  {
   "cell_type": "markdown",
   "metadata": {},
   "source": [
    "# Data Pipeline"
   ]
  },
  {
   "cell_type": "markdown",
   "metadata": {},
   "source": [
    "## Needed data\n",
    "\n",
    "For this analysis we have used 12 different datasets:\n",
    "\n",
    "\n",
    "* definitief_INWEVA_2012_spits.xlsx\n",
    "* definitief01_INWEVA_2013_spits.xls\n",
    "* definitief_INWEVA_2014_spits.xlsx\n",
    "* definitief_INWEVA_2015_spits.xlsx\n",
    "* definitief INWEVA 2016 spits.xlsx\n",
    "* INWEVA_2017_spits.xlsx\n",
    "* INWEVA_2018_spits.xlsx\n",
    "* INWEVA_2019_spits.xlsx\n",
    "* INWEVA_2020_spits.xlsx\n",
    "* INWEVA_2021_spits.xlsx\n",
    "* INWEVA_2022_spits.xlsx\n",
    "* INWEVA_2023_spits.xlsx\n",
    "\n",
    "- extrapolating data before 2019 and compare with data of 2023\n",
    "- comparing differences in trends per vehicle category\n",
    "- comparing different road trajectories and see if there are sigificant differences\n",
    "\n",
    "The average intensities of traffic for each hour on working days between 2012 and 2023, with distinction of vehicle category (light passenger traffic, medium heavy freight traffic and heavy freight traffic)\n",
    "\n"
   ]
  },
  {
   "cell_type": "markdown",
   "metadata": {},
   "source": [
    "## Formatting data"
   ]
  },
  {
   "cell_type": "markdown",
   "metadata": {},
   "source": [
    "To ensure consistent processing of the various datasets, we first standardized them to a standard format. Specifically, all datasets were renamed using the format *INWEVA_YEAR_spits.xlsx*. In addition, any irrelevant data was removed to streamline the processing. It is important to note that there are some discrepancies between the data in the different sets.\n",
    " "
   ]
  },
  {
   "cell_type": "markdown",
   "metadata": {},
   "source": [
    "## Processing data "
   ]
  },
  {
   "cell_type": "markdown",
   "metadata": {},
   "source": [
    "### Chapter 3: A4 traffic intensities 2020-2023"
   ]
  },
  {
   "cell_type": "markdown",
   "metadata": {},
   "source": [
    "**1.** To extract the relevant data for the research, the datasets were filtered. To obtain the necessary data for this subquestion, only the datasets of 2020 to 2023 were used. First, the data was narrowed down to focus solely on the A4 highway, as the original dataset includes information on all highways in the Netherlands. Next, the road type 'main lane' was filtered to exclude exits and intersections. Finally, the data was limited to sections of the A4 between Rotterdam and Amsterdam.\n",
    "\n",
    "**2.** The data was subsequently split into the two directions of the road. This way, the visualisation process later on is easier.\n",
    "\n",
    "**3.** The mean morning & evening rush hour traffic intensities were then calculatad for both directions.\n",
    "\n",
    "**4.** The mean intensities are then added to their corresponding lists.\n",
    "\n",
    "**5.** The lists are then used to plot different graphs to visualise the trends in traffic intensities over the years."
   ]
  },
  {
   "cell_type": "markdown",
   "metadata": {},
   "source": [
    "### `Chapter 4: Extrapolated A4 traffic intensities`"
   ]
  },
  {
   "cell_type": "markdown",
   "metadata": {},
   "source": [
    "*2013/2014 data as strings, manually changed to integers --> benoemen als stap in jullie data processing*\n",
    "\n",
    "**1.** To extract the relevant data for the research, the datasets were filtered. To obtain the necessary data for this subquestion, only the datasets of 2012 to 2019 were used. First, the data was narrowed down to focus solely on the A4 highway, as the original dataset includes information on all highways in the Netherlands. Next, the road type 'main lane' was filtered to exclude exits and intersections. Finally, the data was limited to sections of the A4 between Rotterdam and Amsterdam.\n",
    "\n",
    "**2.** The data was subsequently split into the two directions of the road. This way, the visualisation process later on is easier.\n",
    "\n",
    "**3.** The mean morning & evening rush hour traffic intensities were then calculatad for both directions."
   ]
  },
  {
   "cell_type": "markdown",
   "metadata": {},
   "source": [
    "### `Chapter 5: Passengers V.S. Freight`"
   ]
  },
  {
   "cell_type": "markdown",
   "metadata": {},
   "source": [
    "**1.**"
   ]
  },
  {
   "cell_type": "markdown",
   "metadata": {},
   "source": [
    "# `Contribution Statement`\n",
    "\n",
    "*Be specific. Some of the tasks can be coding (expect everyone to do this), background research, conceptualisation, visualisation, data analysis, data modelling*"
   ]
  },
  {
   "cell_type": "markdown",
   "metadata": {},
   "source": [
    "**Bart**: \n",
    "\n",
    "* Background research and conceptualisation\n",
    "* Determining the research objective\n",
    "* Adjusting research objective\n",
    "* Ch4: Extracting & filtering usefull data\n",
    "* Ch4: Data modelling and extrapolation\n",
    "* Ch4: Visualisation of data into graphs\n",
    "\n",
    "**Daan**: \n",
    "* Background research and conceptualisation\n",
    "* Adjusting research objective\n",
    "* Ch4: Extracting & filtering usefull data\n",
    "* Ch4: Data modelling and extrapolation\n",
    "* Ch4: Visualisation of data into graphs\n",
    "\n",
    "**Jasmijn**: \n",
    "* Background research and conceptualisation\n",
    "* Adjusting research objective\n",
    "* Ch3: Extracting & filtering usefull data\n",
    "* Ch3: Data modelling\n",
    "* Ch3: Visualisation of data into graphs\n",
    "* Report layout\n",
    "\n",
    "**Liselot**:\n",
    "* Background research and conceptualisation\n",
    "* Determining the research objective\n",
    "* Adjusting research objective\n",
    "* Ch4: Extracting & filtering usefull data\n",
    "* Ch4: Data modelling and extrapolation\n",
    "* Ch4: Visualisation of data into graphs\n",
    "\n",
    "**Gijs**:\n",
    "* Background research and conceptualisation\n",
    "* Determining the research objective\n",
    "* Adjusting research objective\n",
    "* Ch3: Extracting & filtering usefull data\n",
    "* Ch3: Data modelling\n",
    "* Ch3: Visualisation of data into graphs\n",
    "* Report layout"
   ]
  }
 ],
 "metadata": {
  "kernelspec": {
   "display_name": "Python 3 (ipykernel)",
   "language": "python",
   "name": "python3"
  },
  "language_info": {
   "codemirror_mode": {
    "name": "ipython",
    "version": 3
   },
   "file_extension": ".py",
   "mimetype": "text/x-python",
   "name": "python",
   "nbconvert_exporter": "python",
   "pygments_lexer": "ipython3",
   "version": "3.12.4"
  },
  "vscode": {
   "interpreter": {
    "hash": "31f2aee4e71d21fbe5cf8b01ff0e069b9275f58929596ceb00d14d90e3e16cd6"
   }
  }
 },
 "nbformat": 4,
 "nbformat_minor": 4
}
