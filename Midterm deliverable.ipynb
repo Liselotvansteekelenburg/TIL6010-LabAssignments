{
 "cells": [
  {
   "cell_type": "markdown",
   "metadata": {},
   "source": [
    "# Impact of COVID-19 on rush hour traffic intensities on the A4 highway\n",
    "\n",
    "**Project Group 30**\n",
    "\n",
    "**Members & student numbers:** \n",
    "\n",
    "- Bart van de Meerendonk (5410878)\n",
    "- Daan Kreikamp (5313333)\n",
    "- Jasmijn Smit (5310296)\n",
    "- Liselot van Steekelenburg (5367662)\n",
    "- Gijs Janssen (5083478)"
   ]
  },
  {
   "cell_type": "markdown",
   "metadata": {},
   "source": [
    "# 1. Introduction "
   ]
  },
  {
   "cell_type": "markdown",
   "metadata": {},
   "source": [
    "\n",
    "The COVID-19 pandemic has significantly affected various sectors, including transportation and mobility. In the Netherlands, changes in rush hour traffic intensities on highways have become evident. This research investigates the extent of the pandemic's impact on traffic patterns on the A4 highway between Rotterdam and Amsterdam.\n",
    "To address this, we will explore one main question and three sub-questions listed above. We want to extrapolate a part of the data until 2019 to estimate the difference between the expected intensities in 2023 compared to the measured data."
   ]
  },
  {
   "cell_type": "markdown",
   "metadata": {},
   "source": [
    "# 2. Research Objective\n",
    "\n",
    "*Requires data modeling and quantitative research in Transport, Infrastructure & Logistics*"
   ]
  },
  {
   "cell_type": "markdown",
   "metadata": {},
   "source": [
    "Main objective: \n",
    "To what extent did the Covid Pandemic have an impact on rush hour traffic intensities on weekdays on the A4 highway between Rotterdam & Amsterdam?\n",
    "\n",
    "\n",
    "Sub objectives: \n",
    "\n",
    "- What were traffic intensities on the A4 between 2020 and 2023 (after COVID era)?\n",
    "- What are the projected traffic intensities untill 2023 based on the pre-Covid data? (extrapolated from 2019)\n",
    "- Is there a trend difference between passenger vehicles and freight traffic?\n",
    "\n",
    "\n",
    "Hier moet een stukje komen over de aannames die we hebben gedaan omtrent gemiddeldes van alle hoofdrijvakken van de A4. Uitleggen waarom we die keuzes hebben gemaakt etc. Gedachtegang uitleggen"
   ]
  },
  {
   "cell_type": "markdown",
   "metadata": {},
   "source": [
    "# 3. A4 traffic intensities 2020-2023"
   ]
  },
  {
   "cell_type": "markdown",
   "metadata": {},
   "source": [
    "Hierin data loaden van de daadwerkelijke traffic intensities in 2023"
   ]
  },
  {
   "cell_type": "markdown",
   "metadata": {},
   "source": [
    "# 4. Extrapolated A4 traffic intensities"
   ]
  },
  {
   "cell_type": "markdown",
   "metadata": {},
   "source": [
    "Hierin data extrapoleren op basis van de data eind 2019 (data voor corona)"
   ]
  },
  {
   "cell_type": "markdown",
   "metadata": {},
   "source": [
    "# 5. Passengers V.S. Freight"
   ]
  },
  {
   "cell_type": "markdown",
   "metadata": {},
   "source": [
    "# Data Used"
   ]
  },
  {
   "cell_type": "markdown",
   "metadata": {},
   "source": [
    "We will use the zipfiles on this website to download the datasets of the rush hour traffic intensities of the years 2012 to 2023.\n",
    "\n",
    "* Rijkswaterstaat INtensiteit WEgVAkken (INWEVA) datasets (2012-2023) - https://maps.rijkswaterstaat.nl/dataregister/srv/dut/catalog.search#/metadata/054ab8be-0eaa-440c-840c-47eca8643aa8\n",
    "\n"
   ]
  },
  {
   "cell_type": "markdown",
   "metadata": {},
   "source": [
    "# Data Pipeline"
   ]
  },
  {
   "cell_type": "markdown",
   "metadata": {},
   "source": [
    "## Needed data\n",
    "\n",
    "For this analysis we have used 12 different datasets:\n",
    "\n",
    "\n",
    "* definitief_INWEVA_2012_spits.xlsx\n",
    "* definitief01_INWEVA_2013_spits.xls\n",
    "* definitief_INWEVA_2014_spits.xlsx\n",
    "* definitief_INWEVA_2015_spits.xlsx\n",
    "* definitief INWEVA 2016 spits.xlsx\n",
    "* INWEVA_2017_spits.xlsx\n",
    "* INWEVA_2018_spits.xlsx\n",
    "* INWEVA_2019_spits.xlsx\n",
    "* INWEVA_2020_spits.xlsx\n",
    "* INWEVA_2021_spits.xlsx\n",
    "* INWEVA_2022_spits.xlsx\n",
    "* INWEVA_2023_spits.xlsx\n",
    "\n",
    "- extrapolating data before 2019 and compare with data of 2023\n",
    "- comparing differences in trends per vehicle category\n",
    "- comparing different road trajectories and see if there are sigificant differences\n",
    "\n",
    "The average intensities of traffic for each hour on working days between 2012 and 2023, with distinction of vehicle category (light passenger traffic, medium heavy freight traffic and heavy freight traffic)\n"
   ]
  },
  {
   "cell_type": "markdown",
   "metadata": {},
   "source": [
    "## Formatting data"
   ]
  },
  {
   "cell_type": "markdown",
   "metadata": {},
   "source": [
    "To ensure consistent processing of the various datasets, we first standardized them to a standard format. Specifically, all datasets were renamed using the format *INWEVA_YEAR_spits.xlsx*. In addition, any irrelevant data was removed to streamline the processing. It is important to note that there are some discrepancies between the data in the different sets.\n",
    " "
   ]
  },
  {
   "cell_type": "markdown",
   "metadata": {},
   "source": [
    "## Processing data "
   ]
  },
  {
   "cell_type": "markdown",
   "metadata": {},
   "source": [
    "### Chapter 3: A4 traffic intensities 2020-2023"
   ]
  },
  {
   "cell_type": "markdown",
   "metadata": {},
   "source": [
    "**1.** To extract the relevant data for the research, the datasets were filtered. To obtain the necessary data for this subquestion, only the datasets of 2020 to 2023 were used. First, the data was narrowed down to focus solely on the A4 highway, as the original dataset includes information on all highways in the Netherlands. Next, the road type 'main lane' was filtered to exclude exits and intersections. Finally, the data was limited to sections of the A4 between Rotterdam and Amsterdam.\n",
    "\n",
    "**2.** The data was subsequently split into the two directions of the road. This way, the visualisation process later on is easier.\n",
    "\n",
    "**3.** The mean morning & evening rush hour traffic intensities were then calculatad for both directions.\n",
    "\n",
    "**4.** The mean intensities are then added to their corresponding lists.\n",
    "\n",
    "**5.** The lists are then used to plot different graphs to visualise the trends in traffic intensities over the years.\n",
    "\n",
    "\n",
    "2013/2014 data was in strings so adjusted to integers manually"
   ]
  },
  {
   "cell_type": "markdown",
   "metadata": {},
   "source": [
    "### Chapter 4: Extrapolated A4 traffic intensities"
   ]
  },
  {
   "cell_type": "markdown",
   "metadata": {},
   "source": [
    "*2013/2014 data as strings, manually changed to integers --> benoemen als stap in jullie data processing*\n",
    "\n",
    "**1.** To extract the relevant data for the research, the datasets were filtered. To obtain the necessary data for this subquestion, only the datasets of 2012 to 2019 were used. First, the data was narrowed down to focus solely on the A4 highway, as the original dataset includes information on all highways in the Netherlands. Next, the road type 'main lane' was filtered to exclude exits and intersections. Finally, the data was limited to sections of the A4 between Rotterdam and Amsterdam.\n",
    "\n",
    "**2.** The data was subsequently split into the two directions of the road. This way, the visualisation process later on is easier.\n",
    "\n",
    "**3.** The mean morning & evening rush hour traffic intensities were then calculatad for both directions."
   ]
  },
  {
   "cell_type": "markdown",
   "metadata": {},
   "source": [
    "### Chapter 5: Passengers V.S. Freight"
   ]
  },
  {
   "cell_type": "markdown",
   "metadata": {},
   "source": [
    "**1.**"
   ]
  },
  {
   "cell_type": "markdown",
   "metadata": {},
   "source": [
    "Questions:\n",
    "* Can you elaborate on what is expected in the data pipeline? And how specific should this be? Our version or as specific as the example?\n",
    "* Moeten we verklaren waarom in 2014 de intensiteiten heel erg toenemen en in 2016 afzwakt?\n",
    "* Of we voldoende hebben/meer moeten doen? \n",
    "* Of we 1 manier van programmeren moeten gebruiken of dat je voor verschillende onderdelen van het project andere manieren van programmeren mag hebben?"
   ]
  },
  {
   "cell_type": "markdown",
   "metadata": {},
   "source": [
    "# Contribution Statement\n",
    "\n",
    "*Be specific. Some of the tasks can be coding (expect everyone to do this), background research, conceptualisation, visualisation, data analysis, data modelling*"
   ]
  },
  {
   "cell_type": "markdown",
   "metadata": {},
   "source": [
    "**Bart**: \n",
    "\n",
    "* Background research and conceptualisation\n",
    "* Determining the research objective\n",
    "* Adjusting research objective\n",
    "* Ch4: Extracting & filtering usefull data\n",
    "* Ch4: Data modelling\n",
    "* Ch4: Visualisation of data into graphs\n",
    "\n",
    "**Daan**: \n",
    "* Background research and conceptualisation\n",
    "* Adjusting research objective\n",
    "* Ch4: Extracting & filtering usefull data\n",
    "* Ch4: Data modelling\n",
    "* Ch4: Visualisation of data into graphs\n",
    "\n",
    "**Jasmijn**: \n",
    "* Background research and conceptualisation\n",
    "* Adjusting research objective\n",
    "* Ch3: Extracting & filtering usefull data\n",
    "* Ch3: Data modelling\n",
    "* Ch3: Visualisation of data into graphs\n",
    "* Report layout\n",
    "\n",
    "**Liselot**:\n",
    "* Background research and conceptualisation\n",
    "* Determining the research objective\n",
    "* Adjusting research objective\n",
    "* Ch4: Extracting & filtering usefull data\n",
    "* Ch4: Data modelling\n",
    "* Ch4: Visualisation of data into graphs\n",
    "\n",
    "**Gijs**:\n",
    "* Background research and conceptualisation\n",
    "* Determining the research objective\n",
    "* Adjusting research objective\n",
    "* Ch3: Extracting & filtering usefull data\n",
    "* Ch3: Data modelling\n",
    "* Ch3: Visualisation of data into graphs\n",
    "* Report layout"
   ]
  }
 ],
 "metadata": {
  "kernelspec": {
   "display_name": "Python 3 (ipykernel)",
   "language": "python",
   "name": "python3"
  },
  "language_info": {
   "codemirror_mode": {
    "name": "ipython",
    "version": 3
   },
   "file_extension": ".py",
   "mimetype": "text/x-python",
   "name": "python",
   "nbconvert_exporter": "python",
   "pygments_lexer": "ipython3",
   "version": "3.12.4"
  },
  "vscode": {
   "interpreter": {
    "hash": "31f2aee4e71d21fbe5cf8b01ff0e069b9275f58929596ceb00d14d90e3e16cd6"
   }
  }
 },
 "nbformat": 4,
 "nbformat_minor": 4
}
