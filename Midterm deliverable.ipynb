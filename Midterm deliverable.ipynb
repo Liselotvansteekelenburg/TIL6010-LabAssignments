{
 "cells": [
  {
   "cell_type": "markdown",
   "metadata": {},
   "source": [
    "# Project Group 30\n",
    "\n",
    "**Members & student numbers:** \n",
    "\n",
    "Bart van de Meerendonk 5410878\n",
    "\n",
    "Daan Kreikamp 5313333\n",
    "\n",
    "Jasmijn Smit 5310296\n",
    "\n",
    "Liselot van Steekelenburg 5367662\n",
    "\n",
    "Gijs Janssen 5083478"
   ]
  },
  {
   "cell_type": "markdown",
   "metadata": {},
   "source": [
    "# Research Objective\n",
    "\n",
    "*Requires data modeling and quantitative research in Transport, Infrastructure & Logistics*"
   ]
  },
  {
   "cell_type": "markdown",
   "metadata": {},
   "source": [
    "Main objective: \n",
    "To what extent did the Covid Pandemic have an impact on rush hour traffic intensities on weekdays on the A4 highway between Rotterdam & Amsterdam?\n",
    "\n",
    "\n",
    "Sub objectives: \n",
    "\n",
    "- What were traffic intensities on the A4 in 2023?\n",
    "- What are the projected traffic intensities for 2023 based on the pre-Covid data? (extrapolated from 2019)\n",
    "- Is there a trend difference between passenger vehicles and freight traffic?"
   ]
  },
  {
   "cell_type": "markdown",
   "metadata": {},
   "source": [
    "# Contribution Statement\n",
    "\n",
    "*Be specific. Some of the tasks can be coding (expect everyone to do this), background research, conceptualisation, visualisation, data analysis, data modelling*"
   ]
  },
  {
   "cell_type": "markdown",
   "metadata": {},
   "source": [
    "**Bart**: Background research and brainstorming, determining the research objective\n",
    "\n",
    "**Daan**: Background research and brainstorming\n",
    "\n",
    "**Jasmijn**: Background research and brainstorming\n",
    "\n",
    "**Liselot**: Background research and brainstorming, determining the research objective\n",
    "\n",
    "**Gijs**: Background research and brainstorming, determining the research objective"
   ]
  },
  {
   "cell_type": "markdown",
   "metadata": {},
   "source": [
    "# 1. Introduction \n"
   ]
  },
  {
   "cell_type": "markdown",
   "metadata": {},
   "source": [
    "\n",
    "The COVID-19 pandemic has significantly affected various sectors, including transportation and mobility. In the Netherlands, changes in rush hour traffic intensities on highways have become evident. This research investigates the extent of the pandemic's impact on these traffic patterns.\n",
    "To address this, we will explore one main question and three sub-questions listed below. We want to extrapolate a part of the data until 2019 to estimate the difference between the expected intensities in 2023 compared to the measured data.\n"
   ]
  },
  {
   "cell_type": "markdown",
   "metadata": {},
   "source": [
    "# 2. Chosen highways"
   ]
  },
  {
   "cell_type": "markdown",
   "metadata": {},
   "source": [
    "bijvoorbeeld 8 drukste snelwegen van nederland"
   ]
  },
  {
   "cell_type": "markdown",
   "metadata": {},
   "source": [
    "# 3. Road intensities 2023"
   ]
  },
  {
   "cell_type": "markdown",
   "metadata": {},
   "source": [
    "Hierin data loaden van de daadwerkelijke traffic intensities in 2023"
   ]
  },
  {
   "cell_type": "markdown",
   "metadata": {},
   "source": [
    "# 4. Extrapolated data"
   ]
  },
  {
   "cell_type": "markdown",
   "metadata": {},
   "source": [
    "Hierin data extrapoleren op basis van de data eind 2019 (data voor corona)"
   ]
  },
  {
   "cell_type": "markdown",
   "metadata": {},
   "source": [
    "# 5. Affected highways"
   ]
  },
  {
   "cell_type": "markdown",
   "metadata": {},
   "source": [
    " vergelijken (daadwerkelijke data vs geextrapoleerde data)"
   ]
  },
  {
   "cell_type": "markdown",
   "metadata": {},
   "source": [
    "# 6. Passengers V.S. Freight"
   ]
  },
  {
   "cell_type": "markdown",
   "metadata": {},
   "source": [
    "# Data Used"
   ]
  },
  {
   "cell_type": "markdown",
   "metadata": {},
   "source": [
    "The average intensities of traffic for each hour on working days between 2012 and 2023, with distinction of vehicle category (light passenger traffic, medium heavy freight traffic and heavy freight traffic)\n",
    "\n",
    "https://maps.rijkswaterstaat.nl/gwproj55/index.html?viewer=Inweva\n",
    "\n",
    "https://maps.rijkswaterstaat.nl/dataregister/srv/dut/catalog.search#/search?facet.q=keyword%2Fintensiteit&resultType=details&sortBy=relevance&topicCat=transportation&fast=index&_content_type=json&from=1&to=20&any=uurintensiteit\n"
   ]
  },
  {
   "cell_type": "markdown",
   "metadata": {},
   "source": [
    "# Data Pipeline"
   ]
  },
  {
   "cell_type": "markdown",
   "metadata": {},
   "source": [
    "- extrapolating data before 2019 and compare with data of 2023\n",
    "- comparing differences in trends per vehicle category\n",
    "- comparing different road trajectories and see if there are sigificant differences\n"
   ]
  },
  {
   "cell_type": "markdown",
   "metadata": {},
   "source": []
  }
 ],
 "metadata": {
  "kernelspec": {
   "display_name": "Python 3 (ipykernel)",
   "language": "python",
   "name": "python3"
  },
  "language_info": {
   "codemirror_mode": {
    "name": "ipython",
    "version": 3
   },
   "file_extension": ".py",
   "mimetype": "text/x-python",
   "name": "python",
   "nbconvert_exporter": "python",
   "pygments_lexer": "ipython3",
   "version": "3.12.4"
  },
  "vscode": {
   "interpreter": {
    "hash": "31f2aee4e71d21fbe5cf8b01ff0e069b9275f58929596ceb00d14d90e3e16cd6"
   }
  }
 },
 "nbformat": 4,
 "nbformat_minor": 4
}
