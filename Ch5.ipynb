{
 "cells": [
  {
   "cell_type": "code",
   "execution_count": 9,
   "metadata": {},
   "outputs": [
    {
     "name": "stdout",
     "output_type": "stream",
     "text": [
      "   year  count  mean_traffic  std_traffic  min_traffic  25_percentile  \\\n",
      "0  2017   75.0   7484.066667  3773.268915       1531.0         4703.5   \n",
      "1  2018   74.0   7347.000000  3820.905548       1431.0         4414.0   \n",
      "2  2019   74.0   7382.162162  3805.661680       1534.0         4509.5   \n",
      "3  2020   65.0   7136.492308  3501.503776       1127.0         4766.0   \n",
      "\n",
      "   50_percentile  75_percentile  max_traffic  \n",
      "0         6629.0         9965.0      16456.0  \n",
      "1         6292.0         9542.5      16119.0  \n",
      "2         6308.0         9655.0      16263.0  \n",
      "3         6581.0         9729.0      14770.0  \n"
     ]
    }
   ],
   "source": [
    "import pandas as pd\n",
    "import matplotlib.pyplot as plt\n",
    "\n",
    "def analyze_road_segments(year):\n",
    "    # Construct the file path based on the input year\n",
    "    file_path = f'datasets_spitsuren_wegvakken/INWEVA_{year}_spits.xlsx'\n",
    "    \n",
    "    # Load the Excel file\n",
    "    data = pd.read_excel(file_path)\n",
    "    \n",
    "    # Select the relevant columns\n",
    "    selected_columns = data[['Wegnr_van','Wegnr_naar','Hm_van','Hm_naar','Traject_van', 'Traject_naar', \n",
    "                             'etmaal_AL', 'OS_AL', 'AS_AL', 'Ri_naar', 'Baantype_naar', 'Baantype_van']]\n",
    "    \n",
    "    # # Create a new 'Traject' column combining relevant columns\n",
    "    # selected_columns.loc[:, 'Traject'] = (selected_columns['Traject_van'].astype(str) + ' ' + \n",
    "    #                                       selected_columns['Traject_naar'].astype(str) + ' ' + \n",
    "    #                                       selected_columns['Ri_naar'].astype(str))\n",
    "    \n",
    "    # Filter for road number 4 and other conditions\n",
    "    df_road_4 = selected_columns[\n",
    "        (selected_columns['Wegnr_van'] == 4) & \n",
    "        (selected_columns['Wegnr_naar'] == 4) & \n",
    "        (selected_columns['Baantype_naar'] == 'HR') & \n",
    "        (selected_columns['Baantype_van'] == 'HR') & \n",
    "        (selected_columns['Ri_naar'] == 'R')\n",
    "    ]\n",
    "    \n",
    "    # Sort the filtered DataFrame by 'Hm_van'\n",
    "    df_road_4_sorted = df_road_4.sort_values(by='Hm_van', ascending=True)\n",
    "    \n",
    "    mean_traffic = df_road_4_sorted['AS_AL'].mean()\n",
    "    std_traffic = df_road_4_sorted['AS_AL'].std()\n",
    "    distribution = df_road_4_sorted['AS_AL'].describe()\n",
    "\n",
    "    # plt.figure(figsize=(10, 6))\n",
    "    # plt.barh(df_road_4_sorted['Traject'].head(20), df_road_4_sorted['OS_AL'].head(20), color='skyblue')\n",
    "    # plt.xlabel('Traffic Volume (OS_AL)')\n",
    "    # plt.ylabel('Road Segments')\n",
    "    # plt.title(f'Top 20 Road Segments with Highest Traffic Volume on Road 4 - {year} (OS_AL)')\n",
    "    # plt.gca().invert_yaxis()\n",
    "    # plt.show()\n",
    "\n",
    "    # plt.figure(figsize=(10, 6))\n",
    "    # plt.barh(df_road_4_sorted['Traject'].head(20), df_road_4_sorted['AS_AL'].head(20), color='lightgreen')\n",
    "    # plt.xlabel('Traffic Volume (AS_AL)')\n",
    "    # plt.ylabel('Road Segments')\n",
    "    # plt.title(f'Top 20 Road Segments with Highest Traffic Volume on Road 4 - {year} (AS_AL)')\n",
    "    # plt.gca().invert_yaxis()\n",
    "    # plt.show()\n",
    "\n",
    "    # Return the sorted DataFrame for further analysis\n",
    "    return {\n",
    "       'year': year,\n",
    "       'count': distribution['count'],\n",
    "        'mean_traffic': mean_traffic,\n",
    "        'std_traffic': std_traffic,\n",
    "        'min_traffic': distribution['min'],\n",
    "        '25_percentile': distribution['25%'],\n",
    "        '50_percentile': distribution['50%'],\n",
    "        '75_percentile': distribution['75%'],\n",
    "        'max_traffic': distribution['max'] \n",
    "    }\n",
    "\n",
    "years = [2017, 2018, 2019, 2020]\n",
    "road_stats = [analyze_road_segments(year) for year in years]\n",
    "\n",
    "stats_df = pd.DataFrame(road_stats)\n",
    "\n",
    "print(stats_df)"
   ]
  },
  {
   "cell_type": "code",
   "execution_count": null,
   "metadata": {},
   "outputs": [],
   "source": []
  }
 ],
 "metadata": {
  "kernelspec": {
   "display_name": "Python 3",
   "language": "python",
   "name": "python3"
  },
  "language_info": {
   "codemirror_mode": {
    "name": "ipython",
    "version": 3
   },
   "file_extension": ".py",
   "mimetype": "text/x-python",
   "name": "python",
   "nbconvert_exporter": "python",
   "pygments_lexer": "ipython3",
   "version": "3.12.5"
  }
 },
 "nbformat": 4,
 "nbformat_minor": 2
}
